{
 "cells": [
  {
   "cell_type": "code",
   "execution_count": 1,
   "id": "03fe729b",
   "metadata": {},
   "outputs": [],
   "source": [
    "import os\n",
    "import torch\n",
    "from torch import nn\n",
    "from torch.nn import init\n",
    "import numpy as np\n",
    "from torchvision.datasets import CIFAR10\n",
    "from torch.utils.data import DataLoader\n",
    "from torchvision import transforms\n",
    "import matplotlib.pyplot as plt"
   ]
  },
  {
   "cell_type": "code",
   "execution_count": 2,
   "id": "2b14dc1b",
   "metadata": {},
   "outputs": [
    {
     "data": {
      "text/plain": [
       "<torch._C.Generator at 0x14663d989d0>"
      ]
     },
     "execution_count": 2,
     "metadata": {},
     "output_type": "execute_result"
    }
   ],
   "source": [
    "# Set fixed random number seed\n",
    "torch.manual_seed(42)"
   ]
  },
  {
   "cell_type": "markdown",
   "id": "aab19341",
   "metadata": {},
   "source": [
    "# Dataset Manipulation\n",
    "\n",
    "The first thing we need to do is <font color=DeepPink>**load the dataset**</font>. \n",
    "\n",
    "This will automatically download the training set for the **CIFAR10** dataset and save it in a folder called `data`. It will create the folder if it does not exist.\n",
    "\n",
    "We transform them to Tensors of normalized range [-1, 1]."
   ]
  },
  {
   "cell_type": "code",
   "execution_count": 3,
   "id": "ddf12117",
   "metadata": {},
   "outputs": [],
   "source": [
    "# Hyperparameters\n",
    "dataroot = 'data'\n",
    "batch_size = 1024\n",
    "\n",
    "# load dataset\n",
    "transform = transforms.Compose([transforms.ToTensor()])\n",
    "train_data = CIFAR10(dataroot, download=True, train=True, transform=transform)\n",
    "trainloader = torch.utils.data.DataLoader(train_data, batch_size=batch_size, shuffle=True, num_workers=1)\n",
    "test_data = CIFAR10(dataroot, download=True, train=False, transform=transform)\n",
    "testloader = torch.utils.data.DataLoader(test_data, batch_size=batch_size, shuffle=False, num_workers=1)"
   ]
  },
  {
   "cell_type": "markdown",
   "id": "6c90bc25",
   "metadata": {},
   "source": [
    "# Neural Network\n",
    "\n",
    "Our model will be a neural network, specifically a multilayer perceptron (MLP) with two hidden layers. \n",
    "\n",
    "Specifically, first we will flatten our 3x32x32 (3 color channel, 32 pixels height and width) image into a 3072 element vector, also called 3072 features. We flatten our input, as MLPs cannot handle two or three-dimensional data. Next, the 3072 dimensional input is passed through the first hidden layer to transform it into 1024 dimensions. Then, another hidden layer, which will transform it to 512 dimensions. Finally, an output layer which will transform it into a 10 dimensional vector. The output dimension should equal the number of classes within your data. Here we have ten categories, so need our output to be 10 dimensions.\n",
    "\n",
    "```torch.nn.Linear()``` applies a linear transformation to the incoming data: $ y = xW^T+b $\n",
    "\n",
    "Example: the input tensor ```x.shape=[10, 3072]```, where 10 is the batch size. We set two parameters of ```torch.nn.Linear()``` are 3072 and 1024, which means that ```W.shape=[1024, 3072]```, so the shape of $ W^T $ is ```W^T.shape=[3072, 1024]``` and the shape of $ b $ is ```b.shape=[1024]```. Using the formula, we can get $ y $ with the shape ```y.shape=[10, 1024]```."
   ]
  },
  {
   "cell_type": "code",
   "execution_count": 4,
   "id": "78589de7",
   "metadata": {},
   "outputs": [],
   "source": [
    "class MLP(nn.Module):\n",
    "    def __init__(self, input_dim, output_dim):\n",
    "        super().__init__()\n",
    "        self.layers = nn.Sequential(\n",
    "            nn.Flatten(),\n",
    "            nn.Linear(input_dim, 1024),\n",
    "            nn.ReLU(),\n",
    "            nn.Linear(1024, 512),\n",
    "            nn.ReLU(),\n",
    "            nn.Linear(512, output_dim)\n",
    "        )\n",
    "    def forward(self, x):\n",
    "        return self.layers(x)"
   ]
  },
  {
   "cell_type": "code",
   "execution_count": 5,
   "id": "36751e6c",
   "metadata": {},
   "outputs": [
    {
     "name": "stdout",
     "output_type": "stream",
     "text": [
      "MLP(\n",
      "  (layers): Sequential(\n",
      "    (0): Flatten(start_dim=1, end_dim=-1)\n",
      "    (1): Linear(in_features=3072, out_features=1024, bias=True)\n",
      "    (2): ReLU()\n",
      "    (3): Linear(in_features=1024, out_features=512, bias=True)\n",
      "    (4): ReLU()\n",
      "    (5): Linear(in_features=512, out_features=10, bias=True)\n",
      "  )\n",
      ")\n"
     ]
    }
   ],
   "source": [
    "input_dim = 32 * 32 * 3\n",
    "output_dim = 10\n",
    "model = MLP(input_dim, output_dim)\n",
    "print(model)"
   ]
  },
  {
   "cell_type": "markdown",
   "id": "cade859e",
   "metadata": {},
   "source": [
    "This small function is created to calculate the number of trainable parameters (weights and biases) in MLP.\n",
    "\n",
    "```torch.numel()``` returns the number of all elements in a tensor variable."
   ]
  },
  {
   "cell_type": "code",
   "execution_count": 6,
   "id": "5d0fd0bb",
   "metadata": {},
   "outputs": [],
   "source": [
    "def count_parameters(model):\n",
    "    return sum(p.numel() for p in model.parameters() if p.requires_grad)"
   ]
  },
  {
   "cell_type": "code",
   "execution_count": 7,
   "id": "30ce3f72",
   "metadata": {},
   "outputs": [
    {
     "name": "stdout",
     "output_type": "stream",
     "text": [
      "The model has 3,676,682 trainable parameters\n"
     ]
    }
   ],
   "source": [
    "print(f'The model has {count_parameters(model):,} trainable parameters')"
   ]
  },
  {
   "cell_type": "code",
   "execution_count": 8,
   "id": "571d8ff7",
   "metadata": {},
   "outputs": [],
   "source": [
    "cache_layers1_w = []\n",
    "cache_layers3_w = []\n",
    "cache_layers5_w = []\n",
    "\n",
    "def grad100(grad, layer, grad_explode=False):\n",
    "    layer.append(torch.mean(grad).item())\n",
    "    return grad * 5e4 if grad_explode else grad\n",
    "\n",
    "for item in model.named_parameters():\n",
    "    if item[0] == 'layers.1.weight':\n",
    "        item[1].register_hook(lambda grad: grad100(grad, cache_layers1_w))\n",
    "    elif item[0] == 'layers.3.weight':\n",
    "        item[1].register_hook(lambda grad: grad100(grad, cache_layers3_w))\n",
    "    elif item[0] == 'layers.5.weight':\n",
    "        item[1].register_hook(lambda grad: grad100(grad, cache_layers5_w, True))"
   ]
  },
  {
   "cell_type": "markdown",
   "id": "e4abd388",
   "metadata": {},
   "source": [
    "# Train"
   ]
  },
  {
   "cell_type": "code",
   "execution_count": 9,
   "id": "3b85b69a",
   "metadata": {},
   "outputs": [],
   "source": [
    "criterion = nn.CrossEntropyLoss() # define a loss function"
   ]
  },
  {
   "cell_type": "code",
   "execution_count": 10,
   "id": "db43d236",
   "metadata": {},
   "outputs": [],
   "source": [
    "# Hyperparameters\n",
    "lr = 1e-2\n",
    "\n",
    "optimizer = torch.optim.SGD(model.parameters(), lr=lr) # define a optimizer"
   ]
  },
  {
   "cell_type": "code",
   "execution_count": 11,
   "id": "57725a9a",
   "metadata": {},
   "outputs": [],
   "source": [
    "def train(trainloader, model, criterion, optimizer, device):\n",
    "    # switch to train mode\n",
    "    model.train()\n",
    "\n",
    "    epoch_loss = []\n",
    "    epoch_acc = []\n",
    "    \n",
    "    for i, (image, label) in enumerate(trainloader):\n",
    "        image = image.to(device)\n",
    "        label = label.to(device)\n",
    "\n",
    "        # Forward pass\n",
    "        output = model(image)\n",
    "\n",
    "        # Compute loss\n",
    "        loss = criterion(output, label)\n",
    "\n",
    "        # measure accuracy\n",
    "        acc = accuracy(output, label)\n",
    "\n",
    "        # compute gradient and do SGD step\n",
    "        optimizer.zero_grad()\n",
    "        loss.backward()\n",
    "        optimizer.step()\n",
    "        \n",
    "        epoch_loss.append(loss.item())\n",
    "        epoch_acc.append(acc.item())\n",
    "\n",
    "    return epoch_loss, epoch_acc\n",
    "\n"
   ]
  },
  {
   "cell_type": "markdown",
   "id": "8419c649",
   "metadata": {},
   "source": [
    "# Test"
   ]
  },
  {
   "cell_type": "code",
   "execution_count": 12,
   "id": "940e205c",
   "metadata": {},
   "outputs": [],
   "source": [
    "def test(testloader, model, device):\n",
    "    # switch to evaluate mode\n",
    "    model.eval()\n",
    "\n",
    "    epoch_acc = []\n",
    "\n",
    "    with torch.no_grad():\n",
    "        for i, (image, label) in enumerate(testloader):\n",
    "            image = image.to(device)\n",
    "            label = label.to(device)\n",
    "\n",
    "            output = model(image)\n",
    "            \n",
    "            acc = accuracy(output, label)\n",
    "            \n",
    "            epoch_acc.append(acc.item())\n",
    "\n",
    "    return sum(epoch_acc) / len(epoch_acc)\n",
    "            \n",
    "\n",
    "            \n"
   ]
  },
  {
   "cell_type": "markdown",
   "id": "bef6b8b6",
   "metadata": {},
   "source": [
    "# Evaluation"
   ]
  },
  {
   "cell_type": "code",
   "execution_count": 13,
   "id": "56d5b444",
   "metadata": {},
   "outputs": [],
   "source": [
    "def accuracy(output, target, topk=(1,)):\n",
    "    \"\"\"Computes the accuracy over the k top predictions for the specified values of k\"\"\"\n",
    "    with torch.no_grad():\n",
    "        maxk = max(topk)\n",
    "        batch_size = target.size(0)\n",
    "\n",
    "        _, pred = output.topk(maxk, 1, True, True) # pred: location index of the largest number in each batch\n",
    "        pred = pred.t()\n",
    "        correct = pred.eq(target.view(1, -1).expand_as(pred))\n",
    "\n",
    "        for k in topk:\n",
    "            correct_k = correct[:k].reshape(-1).float().sum(0, keepdim=True)\n",
    "            res = correct_k.mul_(100.0 / batch_size)\n",
    "        return res\n"
   ]
  },
  {
   "cell_type": "markdown",
   "id": "4705970a",
   "metadata": {},
   "source": [
    "# Plot"
   ]
  },
  {
   "cell_type": "code",
   "execution_count": 14,
   "id": "dec61dbc",
   "metadata": {},
   "outputs": [],
   "source": [
    "def plot_grad(l3, l5):\n",
    "    plot_x = np.arange(len(l3))\n",
    "    plt.figure(figsize=(15, 7))\n",
    "\n",
    "    plt.plot(plot_x, l3, color='orange', label='layers3.weight')\n",
    "    plt.plot(plot_x, l5, color='green', label='layers5.weight')\n",
    "\n",
    "    plt.xlabel('Iteration')\n",
    "    plt.ylabel('Gradient')\n",
    "    plt.legend(['layers3.weight', 'layers5.weight'])\n",
    "    plt.show()\n"
   ]
  },
  {
   "cell_type": "code",
   "execution_count": 15,
   "id": "a6b4267a",
   "metadata": {},
   "outputs": [
    {
     "name": "stdout",
     "output_type": "stream",
     "text": [
      "[[2.307283878326416, 35.845733642578125, 84.90717315673828, 473.825439453125, 3758.884033203125, 16161.994140625, 4759.0556640625, 27073.748046875, 2957382.75, 159270880.0, 69663744.0, 171864945065984.0, 983597909540864.0, 334027458347008.0, 1.4034062829000125e+29, 1.0859970860423102e+27, nan, nan, nan, nan, nan, nan, nan, nan, nan, nan, nan, nan, nan, nan, nan, nan, nan, nan, nan, nan, nan, nan, nan, nan, nan, nan, nan, nan, nan, nan, nan, nan, nan], [nan, nan, nan, nan, nan, nan, nan, nan, nan, nan, nan, nan, nan, nan, nan, nan, nan, nan, nan, nan, nan, nan, nan, nan, nan, nan, nan, nan, nan, nan, nan, nan, nan, nan, nan, nan, nan, nan, nan, nan, nan, nan, nan, nan, nan, nan, nan, nan, nan], [nan, nan, nan, nan, nan, nan, nan, nan, nan, nan, nan, nan, nan, nan, nan, nan, nan, nan, nan, nan, nan, nan, nan, nan, nan, nan, nan, nan, nan, nan, nan, nan, nan, nan, nan, nan, nan, nan, nan, nan, nan, nan, nan, nan, nan, nan, nan, nan, nan], [nan, nan, nan, nan, nan, nan, nan, nan, nan, nan, nan, nan, nan, nan, nan, nan, nan, nan, nan, nan, nan, nan, nan, nan, nan, nan, nan, nan, nan, nan, nan, nan, nan, nan, nan, nan, nan, nan, nan, nan, nan, nan, nan, nan, nan, nan, nan, nan, nan], [nan, nan, nan, nan, nan, nan, nan, nan, nan, nan, nan, nan, nan, nan, nan, nan, nan, nan, nan, nan, nan, nan, nan, nan, nan, nan, nan, nan, nan, nan, nan, nan, nan, nan, nan, nan, nan, nan, nan, nan, nan, nan, nan, nan, nan, nan, nan, nan, nan], [nan, nan, nan, nan, nan, nan, nan, nan, nan, nan, nan, nan, nan, nan, nan, nan, nan, nan, nan, nan, nan, nan, nan, nan, nan, nan, nan, nan, nan, nan, nan, nan, nan, nan, nan, nan, nan, nan, nan, nan, nan, nan, nan, nan, nan, nan, nan, nan, nan], [nan, nan, nan, nan, nan, nan, nan, nan, nan, nan, nan, nan, nan, nan, nan, nan, nan, nan, nan, nan, nan, nan, nan, nan, nan, nan, nan, nan, nan, nan, nan, nan, nan, nan, nan, nan, nan, nan, nan, nan, nan, nan, nan, nan, nan, nan, nan, nan, nan], [nan, nan, nan, nan, nan, nan, nan, nan, nan, nan, nan, nan, nan, nan, nan, nan, nan, nan, nan, nan, nan, nan, nan, nan, nan, nan, nan, nan, nan, nan, nan, nan, nan, nan, nan, nan, nan, nan, nan, nan, nan, nan, nan, nan, nan, nan, nan, nan, nan], [nan, nan, nan, nan, nan, nan, nan, nan, nan, nan, nan, nan, nan, nan, nan, nan, nan, nan, nan, nan, nan, nan, nan, nan, nan, nan, nan, nan, nan, nan, nan, nan, nan, nan, nan, nan, nan, nan, nan, nan, nan, nan, nan, nan, nan, nan, nan, nan, nan], [nan, nan, nan, nan, nan, nan, nan, nan, nan, nan, nan, nan, nan, nan, nan, nan, nan, nan, nan, nan, nan, nan, nan, nan, nan, nan, nan, nan, nan, nan, nan, nan, nan, nan, nan, nan, nan, nan, nan, nan, nan, nan, nan, nan, nan, nan, nan, nan, nan]]\n",
      "490\n"
     ]
    },
    {
     "data": {
      "image/png": "[encoded data removed]",
      "text/plain": [
       "<Figure size 1500x700 with 1 Axes>"
      ]
     },
     "metadata": {},
     "output_type": "display_data"
    }
   ],
   "source": [
    "n_epoch = 10\n",
    "\n",
    "device = torch.device('cuda' if torch.cuda.is_available() else 'cpu')\n",
    "# place mlp and criterion on to the device\n",
    "model = model.to(device)\n",
    "criterion = criterion.to(device)\n",
    "\n",
    "train_loss = []\n",
    "train_acc = []\n",
    "test_acc = []\n",
    "\n",
    "for epoch in range(n_epoch):\n",
    "    train_epoch_loss, train_epoch_acc = train(trainloader, model, criterion, optimizer, device)\n",
    "    test_epoch_acc = test(testloader, model, device)\n",
    "\n",
    "    train_loss.append(train_epoch_loss)\n",
    "    train_acc.append(train_epoch_acc)\n",
    "    test_acc.append(test_epoch_acc)\n",
    "\n",
    "print(train_loss)\n",
    "print(len(cache_layers1_w))\n",
    "plot_grad(cache_layers3_w, cache_layers5_w)\n",
    "\n"
   ]
  },
  {
   "cell_type": "code",
   "execution_count": null,
   "id": "e2b0ced3",
   "metadata": {},
   "outputs": [],
   "source": []
  }
 ],
 "metadata": {
  "kernelspec": {
   "display_name": "Python 3 (ipykernel)",
   "language": "python",
   "name": "python3"
  },
  "language_info": {
   "codemirror_mode": {
    "name": "ipython",
    "version": 3
   },
   "file_extension": ".py",
   "mimetype": "text/x-python",
   "name": "python",
   "nbconvert_exporter": "python",
   "pygments_lexer": "ipython3",
   "version": "3.10.18"
  }
 },
 "nbformat": 4,
 "nbformat_minor": 5
}
